{
 "cells": [
  {
   "cell_type": "markdown",
   "metadata": {},
   "source": [
    "## Libraries"
   ]
  },
  {
   "cell_type": "code",
   "execution_count": 2,
   "metadata": {},
   "outputs": [],
   "source": [
    "import pandas as pd"
   ]
  },
  {
   "cell_type": "markdown",
   "metadata": {},
   "source": [
    "## Data"
   ]
  },
  {
   "cell_type": "code",
   "execution_count": 3,
   "metadata": {},
   "outputs": [],
   "source": [
    "clin = pd.read_csv(\"../data-clean/clinical/tb_cases.csv\")"
   ]
  },
  {
   "cell_type": "markdown",
   "metadata": {},
   "source": [
    "## Descriptives"
   ]
  },
  {
   "cell_type": "code",
   "execution_count": 7,
   "metadata": {},
   "outputs": [
    {
     "name": "stdout",
     "output_type": "stream",
     "text": [
      "TB Status Counts:\n",
      " tb_status\n",
      "presumptive       984\n",
      "infectious         70\n",
      "not infectious      4\n",
      "Name: count, dtype: int64\n",
      "\n",
      "TB Status Percentages:\n",
      " tb_status\n",
      "presumptive       93.0\n",
      "infectious         7.0\n",
      "not infectious     0.0\n",
      "Name: proportion, dtype: float64\n",
      "\n",
      "Count of all TB patients: 1058\n",
      "\n",
      "Count of presumptive TB cases: 984\n",
      "Percentage of presumptive TB cases: 93%\n",
      "\n",
      "Count of newly diagnosed TB cases: 69\n",
      "Percentage of newly diagnosed TB cases: 7%\n",
      "\n",
      "Count of TB patients already on treatment: 9\n",
      "Percentage of TB patients already on treatment: 1%\n",
      "\n",
      "Median TB cases per day: 11\n",
      "25th percentile (Q25) TB cases per day: 8\n",
      "75th percentile (Q75) TB cases per day: 17\n"
     ]
    }
   ],
   "source": [
    "# 1. Counts and percentages of each category in tb_status overall\n",
    "tb_status_counts = clin['tb_status'].value_counts()\n",
    "tb_status_percentages = (clin['tb_status'].value_counts(normalize=True) * 100).round()\n",
    "print(\"TB Status Counts:\\n\", tb_status_counts)\n",
    "print(\"\\nTB Status Percentages:\\n\", tb_status_percentages)\n",
    "\n",
    "# 1.1 Count of all TB patients (number clinic_id)\n",
    "tb_patients_count = clin['clinic_id'].nunique()\n",
    "print(f\"\\nCount of all TB patients: {tb_patients_count}\")\n",
    "\n",
    "# 1.2 Count and percentage of presumptive TB (tb_status == \"presumptive\")\n",
    "presumptive_tb_count = clin[clin['tb_status'] == 'presumptive']['clinic_id'].nunique()\n",
    "presumptive_tb_percentage = round((presumptive_tb_count / tb_patients_count) * 100)\n",
    "print(f\"\\nCount of presumptive TB cases: {presumptive_tb_count}\")\n",
    "print(f\"Percentage of presumptive TB cases: {presumptive_tb_percentage}%\")\n",
    "\n",
    "# 1.3 Count and percentage of newly diagnosed TB (tb_test_res == \"positive\" or chest_xray_res == \"positive\")\n",
    "newly_diagnosed_tb_count = clin[(clin['tb_test_res'] == 'positive') | (clin['chest_xray_res'] == 'positive')]['clinic_id'].nunique()\n",
    "newly_diagnosed_tb_percentage = round((newly_diagnosed_tb_count / tb_patients_count) * 100)\n",
    "print(f\"\\nCount of newly diagnosed TB cases: {newly_diagnosed_tb_count}\")\n",
    "print(f\"Percentage of newly diagnosed TB cases: {newly_diagnosed_tb_percentage}%\")\n",
    "\n",
    "# 1.4 Count and percentage of TB patients already on treatment (tb_treat_status not NaN)\n",
    "on_treatment_tb_count = clin[clin['tb_treat_status'].notna()]['clinic_id'].nunique()\n",
    "on_treatment_tb_percentage = round((on_treatment_tb_count / tb_patients_count) * 100)\n",
    "print(f\"\\nCount of TB patients already on treatment: {on_treatment_tb_count}\")\n",
    "print(f\"Percentage of TB patients already on treatment: {on_treatment_tb_percentage}%\")\n",
    "\n",
    "# 2. Median, Q25, and Q75 of diagnosed and presumptive TB cases per day (date)\n",
    "tb_cases_per_day = clin[clin['tb_status'].isin(['diagnosed', 'presumptive'])].groupby('date').size()\n",
    "tb_summary = tb_cases_per_day.describe(percentiles=[0.25, 0.75])\n",
    "tb_median = round(tb_summary['50%'])\n",
    "tb_q25 = round(tb_summary['25%'])\n",
    "tb_q75 = round(tb_summary['75%'])\n",
    "print(f\"\\nMedian TB cases per day: {tb_median}\")\n",
    "print(f\"25th percentile (Q25) TB cases per day: {tb_q25}\")\n",
    "print(f\"75th percentile (Q75) TB cases per day: {tb_q75}\")"
   ]
  },
  {
   "cell_type": "code",
   "execution_count": 9,
   "metadata": {},
   "outputs": [
    {
     "name": "stdout",
     "output_type": "stream",
     "text": [
      "\n",
      "Median age: 32\n",
      "25th percentile (Q25) age: 24\n",
      "75th percentile (Q75) age: 44\n",
      "\n",
      "Gender Counts:\n",
      " gender\n",
      "Man      588\n",
      "Woman    470\n",
      "Name: count, dtype: int64\n",
      "\n",
      "Gender Percentages:\n",
      " gender\n",
      "Man      56.0\n",
      "Woman    44.0\n",
      "Name: proportion, dtype: float64\n",
      "\n",
      "HIV Status Counts:\n",
      " hiv_status\n",
      "Negative    743\n",
      "Positive    165\n",
      "Unknown     144\n",
      "Name: count, dtype: int64\n",
      "\n",
      "HIV Status Percentages:\n",
      " hiv_status\n",
      "Negative    71.0\n",
      "Positive    16.0\n",
      "Unknown     14.0\n",
      "Name: proportion, dtype: float64\n"
     ]
    }
   ],
   "source": [
    "# 3. Median, Q25, and Q75 of age overall\n",
    "age_summary = clin['age'].describe(percentiles=[0.25, 0.75])\n",
    "age_median = round(age_summary['50%'])\n",
    "age_q25 = round(age_summary['25%'])\n",
    "age_q75 = round(age_summary['75%'])\n",
    "print(f\"\\nMedian age: {age_median}\")\n",
    "print(f\"25th percentile (Q25) age: {age_q25}\")\n",
    "print(f\"75th percentile (Q75) age: {age_q75}\")\n",
    "\n",
    "# 4. Count and percentage of each gender overall\n",
    "gender_counts = clin['gender'].value_counts()\n",
    "gender_percentages = (clin['gender'].value_counts(normalize=True) * 100).round()\n",
    "print(\"\\nGender Counts:\\n\", gender_counts)\n",
    "print(\"\\nGender Percentages:\\n\", gender_percentages)\n",
    "\n",
    "# 5. Count and percentage of each HIV status overall\n",
    "hiv_status_counts = clin['hiv_status'].value_counts()\n",
    "hiv_status_percentages = (clin['hiv_status'].value_counts(normalize=True) * 100).round()\n",
    "print(\"\\nHIV Status Counts:\\n\", hiv_status_counts)\n",
    "print(\"\\nHIV Status Percentages:\\n\", hiv_status_percentages)"
   ]
  }
 ],
 "metadata": {
  "kernelspec": {
   "display_name": ".venv",
   "language": "python",
   "name": "python3"
  },
  "language_info": {
   "codemirror_mode": {
    "name": "ipython",
    "version": 3
   },
   "file_extension": ".py",
   "mimetype": "text/x-python",
   "name": "python",
   "nbconvert_exporter": "python",
   "pygments_lexer": "ipython3",
   "version": "3.12.1"
  }
 },
 "nbformat": 4,
 "nbformat_minor": 2
}
