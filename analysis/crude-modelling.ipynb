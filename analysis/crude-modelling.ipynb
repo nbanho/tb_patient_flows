{
 "cells": [
  {
   "cell_type": "markdown",
   "metadata": {},
   "source": [
    "## Libraries"
   ]
  },
  {
   "cell_type": "code",
   "execution_count": 54,
   "metadata": {},
   "outputs": [],
   "source": [
    "import pandas as pd\n",
    "import numpy as np\n",
    "import matplotlib.pyplot as plt\n",
    "import math"
   ]
  },
  {
   "cell_type": "code",
   "execution_count": 61,
   "metadata": {},
   "outputs": [],
   "source": [
    "def write_pvalue(p_value):\n",
    "    if p_value < 0.001:\n",
    "        return \"<0.001\"\n",
    "    elif p_value < 0.01:\n",
    "        return f\"{p_value:.3f}\"\n",
    "    elif p_value < 0.1:\n",
    "        return f\"{p_value:.2f}\"\n",
    "    else:\n",
    "        return f\"{p_value:.1f}\""
   ]
  },
  {
   "cell_type": "markdown",
   "metadata": {},
   "source": [
    "## Data"
   ]
  },
  {
   "cell_type": "code",
   "execution_count": 55,
   "metadata": {},
   "outputs": [
    {
     "name": "stdout",
     "output_type": "stream",
     "text": [
      "        track_id  total_time_in_clinic        date study_phase  tb_patients  \\\n",
      "0         217625                138.00  2024-06-26    Baseline           24   \n",
      "1         217632                 14.48  2024-06-26    Baseline           24   \n",
      "2         217640                 88.00  2024-06-26    Baseline           24   \n",
      "3         217641                607.52  2024-06-26    Baseline           24   \n",
      "4         217643                 48.48  2024-06-26    Baseline           24   \n",
      "...          ...                   ...         ...         ...          ...   \n",
      "672285    197890               6492.96  2024-08-06    Baseline            4   \n",
      "672286    197895                 11.52  2024-08-06    Baseline            4   \n",
      "672287    197896                 35.44  2024-08-06    Baseline            4   \n",
      "672288    197897                 34.96  2024-08-06    Baseline            4   \n",
      "672289    197900                 26.48  2024-08-06    Baseline            4   \n",
      "\n",
      "               device   aer_tmb      Cr_tmb   aer_ssm  Cr_ssm  \n",
      "0       Aranet4 272D2  9.221300  353.218471  5.878081   347.0  \n",
      "1       Aranet4 272D2  9.221300  353.218471  5.878081   347.0  \n",
      "2       Aranet4 272D2  9.221300  353.218471  5.878081   347.0  \n",
      "3       Aranet4 272D2  9.221300  353.218471  5.878081   347.0  \n",
      "4       Aranet4 272D2  9.221300  353.218471  5.878081   347.0  \n",
      "...               ...       ...         ...       ...     ...  \n",
      "672285  Aranet4 272D2  9.946195  341.414875  6.959366   353.0  \n",
      "672286  Aranet4 272D2  9.946195  341.414875  6.959366   353.0  \n",
      "672287  Aranet4 272D2  9.946195  341.414875  6.959366   353.0  \n",
      "672288  Aranet4 272D2  9.946195  341.414875  6.959366   353.0  \n",
      "672289  Aranet4 272D2  9.946195  341.414875  6.959366   353.0  \n",
      "\n",
      "[672290 rows x 10 columns]\n"
     ]
    }
   ],
   "source": [
    "# Time spent in the clinic per track_id\n",
    "tt = pd.read_csv(\"../data-clean/tracking/time-in-clinic.csv\")\n",
    "\n",
    "# Mapping dates to intervention periods\n",
    "map_dates = pd.read_csv(\"../data-clean/mapping_dates_interventions.csv\")\n",
    "\n",
    "# Clinical data\n",
    "clin = pd.read_csv(\"../data-clean/clinical/tb_cases.csv\")\n",
    "tb_patients = clin[clin['tb_status'].isin(['diagnosed', 'presumptive'])].groupby('date').size().reset_index(name='tb_patients')\n",
    "\n",
    "# Air change rates\n",
    "aer = pd.read_csv('../data-clean/environmental/air-exchange-rate.csv')\n",
    "aer_272D2 = aer[aer['device'] == 'Aranet4 272D2']\n",
    "\n",
    "# Merge data\n",
    "merged_df = pd.merge(tt, map_dates, on='date', how='left')\n",
    "merged_df = pd.merge(merged_df, tb_patients, on='date', how='left')\n",
    "merged_df = pd.merge(merged_df, aer_272D2, on='date', how='left')\n",
    "print(merged_df)"
   ]
  },
  {
   "cell_type": "markdown",
   "metadata": {},
   "source": [
    "## Modelling"
   ]
  },
  {
   "cell_type": "code",
   "execution_count": 68,
   "metadata": {},
   "outputs": [
    {
     "data": {
      "text/plain": [
       "count    162750.00\n",
       "mean          1.32\n",
       "std           1.81\n",
       "min           0.04\n",
       "25%           0.38\n",
       "50%           0.74\n",
       "75%           1.53\n",
       "max          42.58\n",
       "Name: P, dtype: float64"
      ]
     },
     "execution_count": 68,
     "metadata": {},
     "output_type": "execute_result"
    }
   ],
   "source": [
    "# Filter movements >5min\n",
    "merged_df = merged_df[merged_df['total_time_in_clinic'] > 300]\n",
    "\n",
    "# Compute the new column t\n",
    "merged_df['t'] = merged_df['total_time_in_clinic'] / 3600\n",
    "\n",
    "# Compute the new column I\n",
    "merged_df['I'] = merged_df['tb_patients'] * merged_df['t'] / 12\n",
    "\n",
    "# Compute the new column P\n",
    "q = 2\n",
    "p = 0.5\n",
    "dist_eff = 1\n",
    "vol_eff = (dist_eff**2 * 3) + 0.5 * (dist_eff**2 * 1.4)\n",
    "merged_df['P'] = 1 - np.exp(-merged_df['I'] * q * 1 * p / (merged_df['aer_tmb'] * vol_eff))\n",
    "\n",
    "(merged_df['P'] * 100).describe().round(2)"
   ]
  },
  {
   "cell_type": "code",
   "execution_count": 69,
   "metadata": {},
   "outputs": [
    {
     "data": {
      "image/png": "[encoded data removed]",
      "text/plain": [
       "<Figure size 1000x600 with 1 Axes>"
      ]
     },
     "metadata": {},
     "output_type": "display_data"
    }
   ],
   "source": [
    "# Plot a histogram of baseline_df['I']\n",
    "plt.figure(figsize=(10, 6))\n",
    "plt.hist(baseline_df['I'], bins=30, edgecolor='black')\n",
    "plt.xlabel('I')\n",
    "plt.ylabel('Frequency')\n",
    "plt.title('Histogram of I')\n",
    "plt.show()"
   ]
  },
  {
   "cell_type": "markdown",
   "metadata": {},
   "source": [
    "### Translate contact reduction into new risk"
   ]
  },
  {
   "cell_type": "code",
   "execution_count": 78,
   "metadata": {},
   "outputs": [],
   "source": [
    "def calculate_new_risk(P, OR, IRR):\n",
    "    \"\"\"\n",
    "    Calculate the hypothetical new risk (P_new) based on the initial risk (P),\n",
    "    Odds Ratio (OR) for a doubling of contacts, and the observed Incidence Risk Ratio (IRR).\n",
    "    \n",
    "    Parameters:\n",
    "    - P: float, initial risk\n",
    "    - OR: float, odds ratio for doubling contacts\n",
    "    - IRR: float, observed incidence risk ratio\n",
    "    \n",
    "    Returns:\n",
    "    - P_new: float, adjusted risk after incorporating IRR\n",
    "    \"\"\"\n",
    "    # Step 1: Calculate adjusted risk based on OR\n",
    "    odds = P / (1 - P)  # Original odds\n",
    "    adjusted_odds = odds * OR  # Adjusted odds\n",
    "    P_adjusted = adjusted_odds / (1 + adjusted_odds)  # Adjusted risk\n",
    "\n",
    "    # Step 2: Scale the difference between P_adjusted and P using IRR and OR\n",
    "    ln_IRR = math.log(IRR)\n",
    "    ln_OR = math.log(OR)\n",
    "    scaling_factor = ln_IRR / ln_OR\n",
    "\n",
    "    # Calculate the new risk P_new\n",
    "    P_new = P + (P_adjusted - P) * scaling_factor\n",
    "    return P_new\n",
    "\n",
    "# Example usage\n",
    "P = 0.1  # Initial risk\n",
    "OR = 1.17  # Odds Ratio for doubling contacts\n",
    "IRR_i1 = 0.92\n",
    "IRR_i2 = 0.89\n",
    "\n",
    "\n",
    "# Iterate over merged_df and compute the new columns\n",
    "for index, row in merged_df.iterrows():\n",
    "    P = row['P']\n",
    "    if row['study_phase'] == \"Baseline\":\n",
    "        merged_df.at[index, 'P_b'] = P\n",
    "        merged_df.at[index, 'P_i1'] = calculate_new_risk(P, OR, IRR_i1)\n",
    "        merged_df.at[index, 'P_i2'] = calculate_new_risk(P, OR, IRR_i2)\n",
    "    elif row['study_phase'] == \"First intervention\":\n",
    "        merged_df.at[index, 'P_b'] = calculate_new_risk(P, OR, 1 / IRR_i1)\n",
    "        merged_df.at[index, 'P_i1'] = P\n",
    "        merged_df.at[index, 'P_i2'] = calculate_new_risk(P, OR, IRR_i2 / IRR_i1)\n",
    "    elif row['study_phase'] == \"Second intervention\":\n",
    "        merged_df.at[index, 'P_b'] = calculate_new_risk(P, OR, 1 / IRR_i2)\n",
    "        merged_df.at[index, 'P_i1'] = calculate_new_risk(P, OR, IRR_i1 / IRR_i2)\n",
    "        merged_df.at[index, 'P_i2'] = P"
   ]
  },
  {
   "cell_type": "code",
   "execution_count": 79,
   "metadata": {},
   "outputs": [
    {
     "name": "stdout",
     "output_type": "stream",
     "text": [
      "Baseline risk:\n",
      "\n",
      "50%    0.79\n",
      "25%    0.40\n",
      "75%    1.65\n",
      "Name: P_b, dtype: float64\n",
      "\n",
      "First intervention risk:\n",
      "\n",
      "50%    0.72\n",
      "25%    0.37\n",
      "75%    1.51\n",
      "Name: P_i1, dtype: float64\n",
      "\n",
      "Second intervention risk:\n",
      "50%    0.70\n",
      "25%    0.35\n",
      "75%    1.46\n",
      "Name: P_i2, dtype: float64\n"
     ]
    }
   ],
   "source": [
    "print(\"Baseline risk:\\n\")\n",
    "print((100 * merged_df['P_b']).describe().round(2)[['50%', '25%', '75%']])\n",
    "print(\"\\nFirst intervention risk:\\n\")\n",
    "print((100 * merged_df['P_i1']).describe().round(2)[['50%', '25%', '75%']])\n",
    "print(\"\\nSecond intervention risk:\")\n",
    "print((100 * merged_df['P_i2']).describe().round(2)[['50%', '25%', '75%']])"
   ]
  },
  {
   "cell_type": "code",
   "execution_count": 80,
   "metadata": {},
   "outputs": [
    {
     "data": {
      "image/png": "[encoded data removed]",
      "text/plain": [
       "<Figure size 209.843x236.22 with 1 Axes>"
      ]
     },
     "metadata": {},
     "output_type": "display_data"
    }
   ],
   "source": [
    "import matplotlib.pyplot as plt\n",
    "\n",
    "# Convert P, P_i1, and P_i2 to percentages\n",
    "merged_df['P_b_percent'] = merged_df['P_b'] * 100\n",
    "merged_df['P_i1_percent'] = merged_df['P_i1'] * 100\n",
    "merged_df['P_i2_percent'] = merged_df['P_i2'] * 100\n",
    "\n",
    "# Create a DataFrame for the boxplot\n",
    "boxplot_data = [merged_df['P_b_percent'], merged_df['P_i1_percent'], merged_df['P_i2_percent']]\n",
    "\n",
    "# Create the boxplots\n",
    "fig, ax = plt.subplots(figsize=(5.33 / 2.54, 6 / 2.54))\n",
    "ax.boxplot(boxplot_data, patch_artist=True, showmeans=True, showfliers=False)\n",
    "ax.set_xticklabels(['B', 'I1', 'I2'], fontsize=8)\n",
    "ax.set_ylabel('Infection risk (%)', fontsize=8)\n",
    "ax.tick_params(axis='y', labelsize=8)\n",
    "\n",
    "# Set the title on top at the left end of the plot\n",
    "fig.suptitle('d', fontsize=10, fontweight='bold', x=0.01, ha='left')\n",
    "\n",
    "plt.show()"
   ]
  },
  {
   "cell_type": "code",
   "execution_count": 93,
   "metadata": {},
   "outputs": [
    {
     "data": {
      "image/png": "[encoded data removed]",
      "text/plain": [
       "<Figure size 209.843x236.22 with 1 Axes>"
      ]
     },
     "metadata": {},
     "output_type": "display_data"
    }
   ],
   "source": [
    "import matplotlib.pyplot as plt\n",
    "import numpy as np\n",
    "from scipy.stats import ttest_rel\n",
    "\n",
    "# Compute the risk ratios directly for paired values\n",
    "def compute_paired_risk_ratio_and_ci(data1, data2, alpha=0.05):\n",
    "    ratios = data2 / data1\n",
    "    mean_ratio = np.mean(ratios)\n",
    "    se = np.std(ratios) / np.sqrt(len(ratios))\n",
    "    z = 1.96  # for 95% confidence interval\n",
    "    lower_bound = mean_ratio - z * se\n",
    "    upper_bound = mean_ratio + z * se\n",
    "    return mean_ratio, lower_bound, upper_bound\n",
    "\n",
    "# Compute the risk ratios and confidence intervals\n",
    "mean_ratio_first, lower_first, upper_first = compute_paired_risk_ratio_and_ci(merged_df['P_b'], merged_df['P_i1'])\n",
    "mean_ratio_second, lower_second, upper_second = compute_paired_risk_ratio_and_ci(merged_df['P_b'], merged_df['P_i2'])\n",
    "\n",
    "# Compute the p-values\n",
    "p_value_first_vs_baseline = ttest_rel(merged_df['P_b'], merged_df['P_i1']).pvalue\n",
    "p_value_second_vs_baseline = ttest_rel(merged_df['P_b'], merged_df['P_i2']).pvalue\n",
    "\n",
    "# Format the p-values\n",
    "formatted_p_value_first_vs_baseline = write_pvalue(p_value_first_vs_baseline)\n",
    "formatted_p_value_second_vs_baseline = write_pvalue(p_value_second_vs_baseline)\n",
    "\n",
    "# Create the plot\n",
    "fig, ax = plt.subplots(figsize=(5.33 / 2.54, 6 / 2.54))\n",
    "\n",
    "# Plot the baseline point\n",
    "ax.plot(1, 1, 'o', color='black', label='Baseline')\n",
    "\n",
    "# Plot the risk ratios with error bars\n",
    "art_error_ext = 0.01\n",
    "ax.errorbar(2, mean_ratio_first, yerr=[[mean_ratio_first - lower_first + art_error_ext], [upper_first - mean_ratio_first + art_error_ext]], fmt='o', color='blue', label='First Intervention')\n",
    "ax.errorbar(3, mean_ratio_second, yerr=[[mean_ratio_second - lower_second + art_error_ext], [upper_second - mean_ratio_second + art_error_ext]], fmt='o', color='red', label='Second Intervention')\n",
    "\n",
    "# Add a horizontal dashed line at y=1\n",
    "ax.axhline(y=1, color='gray', linestyle='--')\n",
    "\n",
    "# Set the x-axis labels\n",
    "ax.set_xticks([1, 2, 3])\n",
    "ax.set_xticklabels(['Baseline', 'Int. 1', 'Int. 2'], fontsize=8)\n",
    "\n",
    "# Set the y-axis label\n",
    "ax.set_ylabel('TB infection risk ratio', fontsize=8)\n",
    "ax.tick_params(axis='y', labelsize=8)\n",
    "\n",
    "# Add p-values as text slightly above the maximum of each line inside the plot\n",
    "ax.text(2, upper_first - 0.03, f'p{formatted_p_value_first_vs_baseline}', fontsize=8, ha='center')\n",
    "ax.text(3, upper_second - 0.03, f'p{formatted_p_value_second_vs_baseline}', fontsize=8, ha='center')\n",
    "\n",
    "# Set the y-axis limit to slightly above the maximum of the error bars\n",
    "y_max = max(upper_first, upper_second) + 0.1\n",
    "ax.set_ylim(0.8, y_max)\n",
    "\n",
    "# Slightly increase the margin of the x-axis on the left and right\n",
    "ax.set_xlim(0.5, 3.5)\n",
    "\n",
    "# Set the title\n",
    "plt.title('d', fontsize=10, fontweight='bold', x=0.01, ha='left')\n",
    "\n",
    "# Show the plot\n",
    "plt.savefig('../results/crude-infection-risk.png', dpi=300, bbox_inches='tight')\n",
    "plt.show()"
   ]
  },
  {
   "cell_type": "code",
   "execution_count": null,
   "metadata": {},
   "outputs": [],
   "source": []
  }
 ],
 "metadata": {
  "kernelspec": {
   "display_name": ".venv",
   "language": "python",
   "name": "python3"
  },
  "language_info": {
   "codemirror_mode": {
    "name": "ipython",
    "version": 3
   },
   "file_extension": ".py",
   "mimetype": "text/x-python",
   "name": "python",
   "nbconvert_exporter": "python",
   "pygments_lexer": "ipython3",
   "version": "3.12.1"
  }
 },
 "nbformat": 4,
 "nbformat_minor": 2
}
