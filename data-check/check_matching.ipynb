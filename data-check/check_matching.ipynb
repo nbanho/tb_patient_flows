{
 "cells": [
  {
   "cell_type": "code",
   "execution_count": null,
   "metadata": {},
   "outputs": [],
   "source": [
    "import os\n",
    "import pandas as pd\n",
    "\n",
    "# List all files in the specified directory\n",
    "files = os.listdir('../data-clean/tracking/matched/')\n",
    "files = [f for f in files if f.endswith(\"csv\")]\n",
    "\n",
    "# Initialize an empty DataFrame to store the results\n",
    "results_df = pd.DataFrame(columns=['date', 'no_rows', 'no_track_id', 'no_clinic_id', 'count_missings'])\n",
    "\n",
    "for file in files:\n",
    "    # Extract the date from the file name (assuming the file name contains the date)\n",
    "    date = file.replace('.csv', '')\n",
    "    \n",
    "    # Read the data into a DataFrame\n",
    "    df = pd.read_csv(os.path.join('../data-clean/tracking/matched/', file))\n",
    "    \n",
    "    # Compute the number of rows\n",
    "    no_rows = len(df)\n",
    "    \n",
    "    # Compute the number of NaNs in the 'track_id' and 'clinic_id' columns\n",
    "    no_na_track_id = df['track_id'].isna().sum()\n",
    "    no_na_clinic_id = df['clinic_id'].isna().sum()\n",
    "    \n",
    "    # Compute the combined count of missings\n",
    "    if no_na_track_id + no_na_clinic_id == 0:\n",
    "        count_missings = 0\n",
    "    if no_na_track_id > 0:\n",
    "        count_missings = -no_na_track_id\n",
    "    else:\n",
    "        count_missings = no_na_clinic_id\n",
    "    \n",
    "    # Create a DataFrame for the current file's results\n",
    "    new_row = pd.DataFrame({\n",
    "        'date': [date],\n",
    "        'no_rows': [no_rows],\n",
    "        'no_track_id': [no_rows-no_na_track_id],\n",
    "        'no_clinic_id': [no_rows-no_na_clinic_id],\n",
    "        'count_missings': [count_missings]\n",
    "    })\n",
    "    \n",
    "    # Concatenate the new row to the results DataFrame\n",
    "    results_df = pd.concat([results_df, new_row], ignore_index=True)\n",
    "\n",
    "results_df.sort_values(by='date')\n",
    "#results_df.sort_values(by='date').to_csv(\"../data-check/matching.csv\", index=False)\n"
   ]
  },
  {
   "cell_type": "code",
   "execution_count": null,
   "metadata": {},
   "outputs": [],
   "source": [
    "import matplotlib.pyplot as plt\n",
    "\n",
    "# Assuming results_df is your DataFrame\n",
    "# Create a histogram of the 'count_missings' column using matplotlib\n",
    "plt.hist(results_df['count_missings'], bins=10, edgecolor='black')\n",
    "\n",
    "# Add titles and labels\n",
    "plt.title('Histogram of count_missings')\n",
    "plt.xlabel('count_missings')\n",
    "plt.ylabel('Frequency')\n",
    "\n",
    "# Show the plot\n",
    "plt.show()"
   ]
  },
  {
   "cell_type": "code",
   "execution_count": null,
   "metadata": {},
   "outputs": [],
   "source": []
  }
 ],
 "metadata": {
  "kernelspec": {
   "display_name": ".venv",
   "language": "python",
   "name": "python3"
  },
  "language_info": {
   "codemirror_mode": {
    "name": "ipython",
    "version": 3
   },
   "file_extension": ".py",
   "mimetype": "text/x-python",
   "name": "python",
   "nbconvert_exporter": "python",
   "pygments_lexer": "ipython3",
   "version": "3.12.1"
  }
 },
 "nbformat": 4,
 "nbformat_minor": 2
}
