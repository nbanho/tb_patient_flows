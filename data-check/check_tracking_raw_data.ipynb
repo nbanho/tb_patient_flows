{
 "cells": [
  {
   "cell_type": "code",
   "execution_count": null,
   "metadata": {},
   "outputs": [],
   "source": [
    "import pandas as pd\n",
    "import numpy as np\n",
    "import os\n",
    "from datetime import datetime, timedelta"
   ]
  },
  {
   "cell_type": "code",
   "execution_count": null,
   "metadata": {},
   "outputs": [],
   "source": [
    "def check_tracks(df):\n",
    "    \"\"\"\n",
    "    Analyzes a DataFrame with 'time' (unix timestamp in milliseconds) and 'track_id'.\n",
    "    \n",
    "    Returns a row containing:\n",
    "    - Date (derived from the 'time' column, assuming the filename is not available here)\n",
    "    - Number of unique track IDs\n",
    "    - Minimum timestamp (start)\n",
    "    - Maximum timestamp (end)\n",
    "    - Number of missing minutes\n",
    "    - List of missing minutes\n",
    "    \"\"\"\n",
    "    # Convert 'time' from milliseconds to seconds\n",
    "    df['time'] = df['time'] + 7200000  # Add 2 hours to convert to Cape Town timezone\n",
    "    df['time'] = pd.to_datetime(df['time'], unit='ms')\n",
    "    \n",
    "    # Calculate metrics\n",
    "    date = df['time'].dt.date.iloc[0]\n",
    "    rows = df.shape[0]\n",
    "    unique_tracks = df['track_id'].nunique()\n",
    "    start_time = df['time'].min()\n",
    "    end_time = df['time'].max()\n",
    "    all_minutes = pd.date_range(start=start_time, end=end_time, freq='T')\n",
    "    observed_minutes = df['time'].dt.floor('T').unique()\n",
    "    missing_minutes = np.setdiff1d(all_minutes, observed_minutes)\n",
    "    missing_minutes = [pd.Timestamp(minute).strftime('%H:%M') for minute in missing_minutes]\n",
    "    missing_minutes_count = len(missing_minutes)\n",
    "    start_time = start_time.strftime('%H:%M:%S')\n",
    "    end_time = end_time.strftime('%H:%M:%S')\n",
    "    \n",
    "    return pd.Series([date, rows, unique_tracks, start_time, end_time, missing_minutes_count, missing_minutes],\n",
    "                     index=['Date', 'Entries', 'Unique Tracks', 'Start Time', 'End Time', 'Missing Minutes Count', 'Missing Minutes'])\n",
    "\n",
    "# Directory containing CSV files\n",
    "directory = '../data-clean/tracking/unlinked/'\n",
    "\n",
    "# Initialize a DataFrame to store results\n",
    "results_df = pd.DataFrame(columns=['Date', 'Entries', 'Unique Tracks', 'Start Time', 'End Time', 'Missing Minutes Count', 'Missing Minutes'])\n",
    "\n",
    "# Iterate over CSV files in the directory\n",
    "for filename in os.listdir(directory):\n",
    "    if filename.endswith('.csv'):\n",
    "        file_path = os.path.join(directory, filename)\n",
    "        df = pd.read_csv(file_path)\n",
    "        results_row = check_tracks(df)\n",
    "        results_df = pd.concat([results_df, results_row.to_frame().T], ignore_index=True)\n",
    "\n",
    "# Print the final table\n",
    "print(results_df)"
   ]
  }
 ],
 "metadata": {
  "kernelspec": {
   "display_name": ".venv",
   "language": "python",
   "name": "python3"
  },
  "language_info": {
   "codemirror_mode": {
    "name": "ipython",
    "version": 3
   },
   "file_extension": ".py",
   "mimetype": "text/x-python",
   "name": "python",
   "nbconvert_exporter": "python",
   "pygments_lexer": "ipython3",
   "version": "3.12.1"
  }
 },
 "nbformat": 4,
 "nbformat_minor": 2
}
